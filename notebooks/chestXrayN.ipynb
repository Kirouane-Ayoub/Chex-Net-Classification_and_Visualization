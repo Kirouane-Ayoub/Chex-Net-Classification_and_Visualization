{
 "cells": [
  {
   "cell_type": "code",
   "execution_count": null,
   "metadata": {
    "id": "bbNS4xU_54zM"
   },
   "outputs": [],
   "source": [
    "from tensorflow.keras.applications.densenet import DenseNet121"
   ]
  },
  {
   "cell_type": "code",
   "execution_count": null,
   "metadata": {
    "id": "bUlcBoJrVgB2"
   },
   "outputs": [],
   "source": [
    "from tensorflow.keras.preprocessing import image"
   ]
  },
  {
   "cell_type": "code",
   "execution_count": null,
   "metadata": {
    "id": "HWR2XqAnVx3V"
   },
   "outputs": [],
   "source": [
    "import cv2 \n",
    "import matplotlib.pyplot as plt"
   ]
  },
  {
   "cell_type": "code",
   "execution_count": null,
   "metadata": {
    "id": "sFzgZPuFBDt2"
   },
   "outputs": [],
   "source": [
    "import tensorflow as tf"
   ]
  },
  {
   "cell_type": "code",
   "execution_count": null,
   "metadata": {
    "id": "eZ0LWziv6WE4"
   },
   "outputs": [],
   "source": [
    "from tensorflow.keras.layers import Dense\n",
    "from tensorflow.keras.models import Model"
   ]
  },
  {
   "cell_type": "code",
   "execution_count": null,
   "metadata": {
    "colab": {
     "base_uri": "https://localhost:8080/"
    },
    "executionInfo": {
     "elapsed": 6392,
     "status": "ok",
     "timestamp": 1663661567323,
     "user": {
      "displayName": "AYOUB KIROUANE",
      "userId": "06070622816232564171"
     },
     "user_tz": -60
    },
    "id": "FBTiutdZ6p4r",
    "outputId": "47424a9d-ef07-4fb7-bb82-c69fd0452cd1"
   },
   "outputs": [],
   "source": [
    "base_model = DenseNet121(include_top = False , pooling='avg')"
   ]
  },
  {
   "cell_type": "code",
   "execution_count": null,
   "metadata": {
    "id": "KNXFhCux76LU"
   },
   "outputs": [],
   "source": [
    "x = base_model.output"
   ]
  },
  {
   "cell_type": "code",
   "execution_count": null,
   "metadata": {
    "id": "h3nOoYYQ8HEK"
   },
   "outputs": [],
   "source": [
    "predections = Dense(14 , activation=\"sigmoid\")(x)"
   ]
  },
  {
   "cell_type": "code",
   "execution_count": null,
   "metadata": {
    "id": "-z7nCUou8SZU"
   },
   "outputs": [],
   "source": [
    "model = Model(inputs=base_model.input , outputs=predections)"
   ]
  },
  {
   "cell_type": "code",
   "execution_count": null,
   "metadata": {
    "id": "8zgw0igC-6YZ"
   },
   "outputs": [],
   "source": [
    "model.load_weights('/home/mrx/Desktop/CHEX-NET/xr14m/pretrained_model.h5')"
   ]
  },
  {
   "cell_type": "code",
   "execution_count": null,
   "metadata": {
    "id": "LRnlh-uy_Cw7"
   },
   "outputs": [],
   "source": [
    "path = 'person1946_bacteria_4874.jpeg'\n",
    "img = tf.keras.utils.load_img(\n",
    "    path, target_size=(224,224)\n",
    ")"
   ]
  },
  {
   "cell_type": "code",
   "execution_count": null,
   "metadata": {
    "id": "QCg1-LuYBI8C"
   },
   "outputs": [],
   "source": [
    "import numpy as np"
   ]
  },
  {
   "cell_type": "code",
   "execution_count": null,
   "metadata": {
    "id": "1xFib3oABP5R"
   },
   "outputs": [],
   "source": [
    "x = np.array(img)"
   ]
  },
  {
   "cell_type": "code",
   "execution_count": null,
   "metadata": {
    "id": "hDBeQEbRBUkJ"
   },
   "outputs": [],
   "source": [
    "mean = np.mean(x)\n",
    "std = np.std(x)\n",
    "x = x -mean\n",
    "x = x / std\n",
    "x = np.expand_dims(x , axis=0)"
   ]
  },
  {
   "cell_type": "code",
   "execution_count": null,
   "metadata": {
    "id": "PGnkULhrGgqU"
   },
   "outputs": [],
   "source": [
    "labels = ['Cardiomegaly', \n",
    "          'Emphysema', \n",
    "          'Effusion', \n",
    "          'Hernia', \n",
    "          'Infiltration', \n",
    "          'Mass', \n",
    "          'Nodule', \n",
    "          'Atelectasis',\n",
    "          'Pneumothorax',\n",
    "          'Pleural_Thickening', \n",
    "          'Pneumonia', \n",
    "          'Fibrosis', \n",
    "          'Edema', \n",
    "          'Consolidation']"
   ]
  },
  {
   "cell_type": "code",
   "execution_count": null,
   "metadata": {
    "id": "imNxWUbvG1Bc"
   },
   "outputs": [],
   "source": [
    "preds = model.predict(x)"
   ]
  },
  {
   "cell_type": "code",
   "execution_count": 28,
   "metadata": {
    "colab": {
     "base_uri": "https://localhost:8080/"
    },
    "executionInfo": {
     "elapsed": 11,
     "status": "ok",
     "timestamp": 1663661931216,
     "user": {
      "displayName": "AYOUB KIROUANE",
      "userId": "06070622816232564171"
     },
     "user_tz": -60
    },
    "id": "0KjsqMIEHDZa",
    "outputId": "7037c4ef-d4e9-40da-9063-00034c8a9a68"
   },
   "outputs": [
    {
     "data": {
      "text/plain": [
       "8"
      ]
     },
     "execution_count": 28,
     "metadata": {},
     "output_type": "execute_result"
    }
   ],
   "source": [
    "np.argmax(preds)"
   ]
  },
  {
   "cell_type": "code",
   "execution_count": 29,
   "metadata": {
    "id": "oLRpdTtNHP06"
   },
   "outputs": [],
   "source": [
    "import pandas as pd\n",
    "pred_df = pd.DataFrame(preds , columns=labels)"
   ]
  },
  {
   "cell_type": "code",
   "execution_count": 30,
   "metadata": {
    "colab": {
     "base_uri": "https://localhost:8080/",
     "height": 145
    },
    "executionInfo": {
     "elapsed": 16,
     "status": "ok",
     "timestamp": 1663661967225,
     "user": {
      "displayName": "AYOUB KIROUANE",
      "userId": "06070622816232564171"
     },
     "user_tz": -60
    },
    "id": "32e-Q9c5Htxz",
    "outputId": "5f22a71b-20fd-4a55-e6b1-3f3cb8537cd5"
   },
   "outputs": [
    {
     "data": {
      "text/html": [
       "<div>\n",
       "<style scoped>\n",
       "    .dataframe tbody tr th:only-of-type {\n",
       "        vertical-align: middle;\n",
       "    }\n",
       "\n",
       "    .dataframe tbody tr th {\n",
       "        vertical-align: top;\n",
       "    }\n",
       "\n",
       "    .dataframe thead th {\n",
       "        text-align: right;\n",
       "    }\n",
       "</style>\n",
       "<table border=\"1\" class=\"dataframe\">\n",
       "  <thead>\n",
       "    <tr style=\"text-align: right;\">\n",
       "      <th></th>\n",
       "      <th>Cardiomegaly</th>\n",
       "      <th>Emphysema</th>\n",
       "      <th>Effusion</th>\n",
       "      <th>Hernia</th>\n",
       "      <th>Infiltration</th>\n",
       "      <th>Mass</th>\n",
       "      <th>Nodule</th>\n",
       "      <th>Atelectasis</th>\n",
       "      <th>Pneumothorax</th>\n",
       "      <th>Pleural_Thickening</th>\n",
       "      <th>Pneumonia</th>\n",
       "      <th>Fibrosis</th>\n",
       "      <th>Edema</th>\n",
       "      <th>Consolidation</th>\n",
       "    </tr>\n",
       "  </thead>\n",
       "  <tbody>\n",
       "    <tr>\n",
       "      <th>0</th>\n",
       "      <td>0.461459</td>\n",
       "      <td>0.764471</td>\n",
       "      <td>0.315253</td>\n",
       "      <td>0.161388</td>\n",
       "      <td>0.804246</td>\n",
       "      <td>0.580891</td>\n",
       "      <td>0.493769</td>\n",
       "      <td>0.307794</td>\n",
       "      <td>0.820944</td>\n",
       "      <td>0.733628</td>\n",
       "      <td>0.756328</td>\n",
       "      <td>0.586837</td>\n",
       "      <td>0.636592</td>\n",
       "      <td>0.764336</td>\n",
       "    </tr>\n",
       "  </tbody>\n",
       "</table>\n",
       "</div>"
      ],
      "text/plain": [
       "   Cardiomegaly  Emphysema  Effusion    Hernia  Infiltration      Mass  \\\n",
       "0      0.461459   0.764471  0.315253  0.161388      0.804246  0.580891   \n",
       "\n",
       "     Nodule  Atelectasis  Pneumothorax  Pleural_Thickening  Pneumonia  \\\n",
       "0  0.493769     0.307794      0.820944            0.733628   0.756328   \n",
       "\n",
       "   Fibrosis     Edema  Consolidation  \n",
       "0  0.586837  0.636592       0.764336  "
      ]
     },
     "execution_count": 30,
     "metadata": {},
     "output_type": "execute_result"
    }
   ],
   "source": [
    "pred_df"
   ]
  },
  {
   "cell_type": "code",
   "execution_count": null,
   "metadata": {
    "id": "RhnRM7l5QcPF"
   },
   "outputs": [],
   "source": [
    "def load_image(img, image_dir, df, preprocess=True, H=320, W=320):\n",
    "    \"\"\"Load and preprocess image.\"\"\"\n",
    "    img_path = image_dir + img\n",
    "    mean, std = get_mean_std_per_batch(img_path, df, H=H, W=W)\n",
    "    x = image.load_img(img_path, target_size=(H, W))\n",
    "    if preprocess:\n",
    "        x -= mean\n",
    "        x /= std\n",
    "        x = np.expand_dims(x, axis=0)\n",
    "    return x"
   ]
  },
  {
   "cell_type": "code",
   "execution_count": null,
   "metadata": {
    "id": "J-rSYYdOIuWq"
   },
   "outputs": [],
   "source": [
    "def compute_gradcam(model, img, image_dir, df, labels, selected_labels, layer_name='bn',\n",
    "                   W = 224, H=224):\n",
    "    \n",
    "    preprocessed_input = load_image(img, image_dir, df)\n",
    "    predictions = model.predict(preprocessed_input)\n",
    "    \n",
    "    ##############################\n",
    "    print(\"Loading original image\")\n",
    "    plt.figure(figsize=(15, 10))\n",
    "    plt.subplot(151)\n",
    "    plt.title(\"Original\")\n",
    "    plt.axis('off')\n",
    "    plt.imshow(load_image(img, image_dir, df, preprocess=False), cmap='gray')\n",
    "    ##############################\n",
    "    \n",
    "    \n",
    "    layer_name='bn'\n",
    "    conv_output = model.get_layer(layer_name).output\n",
    "    gradModel = Model(\n",
    "                inputs=[model.inputs],\n",
    "                outputs=[conv_output,model.output])\n",
    "    \n",
    "    j = 1\n",
    "    for i in range(len(labels)):\n",
    "        if labels[i] in selected_labels:\n",
    "            print(f\"Generating gradcam for class {labels[i]}\")\n",
    "\n",
    "            cls = 0 # specific class output probability\n",
    "            with tf.GradientTape() as tape:\n",
    "                (convOutputs, pred) = gradModel(preprocessed_input)\n",
    "                loss = pred[:, cls]\n",
    "            # use automatic differentiation to compute the gradients\n",
    "            grads = tape.gradient(loss, convOutputs)\n",
    "            \n",
    "            output, grads_val = convOutputs[0, :], grads[0, :, :, :] #no need of batch information\n",
    "\n",
    "            weights = np.mean(grads_val, axis=(0, 1))\n",
    "            cam = np.dot(output, weights)\n",
    "\n",
    "            # Process CAM\n",
    "            cam = cv2.resize(cam, (W, H), cv2.INTER_LINEAR)\n",
    "            cam = np.maximum(cam, 0)\n",
    "            gradcam = cam / cam.max()\n",
    "            \n",
    "            ###############################\n",
    "            plt.subplot(151 + j)\n",
    "            plt.title(f\"{labels[i]}: p={predictions[0][i]:.3f}\")\n",
    "            plt.axis('off')\n",
    "            plt.imshow(load_image(img, image_dir, df, preprocess=False),cmap='gray')\n",
    "            \n",
    "            #value = np.array(min(0.5, predictions[0][i])).reshape(1,1)\n",
    "            value = min(0.5, predictions[0][i])\n",
    "            value = np.repeat(value,W*H).reshape(W,H)\n",
    "            plt.imshow(gradcam, cmap='jet', alpha=value)\n",
    "            j += 1\n",
    "            #################################"
   ]
  },
  {
   "cell_type": "code",
   "execution_count": null,
   "metadata": {
    "id": "-U2tu3DWI_Qk"
   },
   "outputs": [],
   "source": [
    "IMAGE_DIR = '/home/mrx/Desktop/CHEX-NET/'\n",
    "df = pd.read_csv('train-small.csv')"
   ]
  },
  {
   "cell_type": "code",
   "execution_count": null,
   "metadata": {
    "id": "SrsQfQxQR1to"
   },
   "outputs": [],
   "source": [
    "def get_mean_std_per_batch(image_path, df, H=320, W=320):\n",
    "    sample_data = []\n",
    "    for idx, img in enumerate(df.sample(100)[\"Image\"].values):\n",
    "        # path = image_dir + img\n",
    "        sample_data.append(\n",
    "            np.array(image.load_img(image_path, target_size=(H, W))))\n",
    "\n",
    "    mean = np.mean(sample_data[0])\n",
    "    std = np.std(sample_data[0])\n",
    "    return mean, std"
   ]
  },
  {
   "cell_type": "code",
   "execution_count": null,
   "metadata": {
    "colab": {
     "base_uri": "https://localhost:8080/",
     "height": 278
    },
    "executionInfo": {
     "elapsed": 5494,
     "status": "ok",
     "timestamp": 1663662177806,
     "user": {
      "displayName": "AYOUB KIROUANE",
      "userId": "06070622816232564171"
     },
     "user_tz": -60
    },
    "id": "_WQ33WufPDxX",
    "outputId": "9464fc30-06d9-4383-d652-ff74f5f28a1f"
   },
   "outputs": [],
   "source": [
    "compute_gradcam(model ,'person1946_bacteria_4874.jpeg', IMAGE_DIR , df , labels , labels[:4])"
   ]
  },
  {
   "cell_type": "code",
   "execution_count": null,
   "metadata": {
    "colab": {
     "base_uri": "https://localhost:8080/",
     "height": 278
    },
    "executionInfo": {
     "elapsed": 10188,
     "status": "ok",
     "timestamp": 1663662166910,
     "user": {
      "displayName": "AYOUB KIROUANE",
      "userId": "06070622816232564171"
     },
     "user_tz": -60
    },
    "id": "aUKXX8MUzbaB",
    "outputId": "6840d752-e11a-4b7a-aa16-25ffad5429cc"
   },
   "outputs": [],
   "source": [
    "compute_gradcam(model ,'person1946_bacteria_4874.jpeg', IMAGE_DIR , df , labels , labels[4:8])"
   ]
  },
  {
   "cell_type": "code",
   "execution_count": null,
   "metadata": {
    "colab": {
     "base_uri": "https://localhost:8080/",
     "height": 278
    },
    "executionInfo": {
     "elapsed": 3488,
     "status": "ok",
     "timestamp": 1663662223890,
     "user": {
      "displayName": "AYOUB KIROUANE",
      "userId": "06070622816232564171"
     },
     "user_tz": -60
    },
    "id": "4tHdr4L5zcAU",
    "outputId": "ddfa04fc-d244-4015-e90e-9160741f5b0e"
   },
   "outputs": [],
   "source": [
    "compute_gradcam(model ,'person1946_bacteria_4874.jpeg', IMAGE_DIR , df , labels , labels[8:12])"
   ]
  },
  {
   "cell_type": "code",
   "execution_count": null,
   "metadata": {
    "colab": {
     "base_uri": "https://localhost:8080/",
     "height": 243
    },
    "executionInfo": {
     "elapsed": 3593,
     "status": "ok",
     "timestamp": 1663662203400,
     "user": {
      "displayName": "AYOUB KIROUANE",
      "userId": "06070622816232564171"
     },
     "user_tz": -60
    },
    "id": "0CdTG_G71cio",
    "outputId": "e04e6742-7c3f-46bc-c27d-6b3f928b5b33"
   },
   "outputs": [],
   "source": [
    "compute_gradcam(model ,'person1946_bacteria_4874.jpeg', IMAGE_DIR , df , labels , labels[12:])"
   ]
  }
 ],
 "metadata": {
  "accelerator": "GPU",
  "colab": {
   "authorship_tag": "ABX9TyPttxsTxdOCzzieSVgHblYi",
   "collapsed_sections": [],
   "mount_file_id": "1jaZ2Ce7ToTdZ2HOgYqpN1mjlX1sUtknv",
   "provenance": []
  },
  "gpuClass": "standard",
  "kernelspec": {
   "display_name": "Python 3 (ipykernel)",
   "language": "python",
   "name": "python3"
  },
  "language_info": {
   "codemirror_mode": {
    "name": "ipython",
    "version": 3
   },
   "file_extension": ".py",
   "mimetype": "text/x-python",
   "name": "python",
   "nbconvert_exporter": "python",
   "pygments_lexer": "ipython3",
   "version": "3.9.2"
  }
 },
 "nbformat": 4,
 "nbformat_minor": 1
}
